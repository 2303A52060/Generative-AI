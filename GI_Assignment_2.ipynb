{
  "nbformat": 4,
  "nbformat_minor": 0,
  "metadata": {
    "colab": {
      "provenance": [],
      "authorship_tag": "ABX9TyP3PL4ahK5Vr5oXS7VWbgOj",
      "include_colab_link": true
    },
    "kernelspec": {
      "name": "python3",
      "display_name": "Python 3"
    },
    "language_info": {
      "name": "python"
    }
  },
  "cells": [
    {
      "cell_type": "markdown",
      "metadata": {
        "id": "view-in-github",
        "colab_type": "text"
      },
      "source": [
        "<a href=\"https://colab.research.google.com/github/2303A52060/Generative-AI/blob/main/GI_Assignment_2.ipynb\" target=\"_parent\"><img src=\"https://colab.research.google.com/assets/colab-badge.svg\" alt=\"Open In Colab\"/></a>"
      ]
    },
    {
      "cell_type": "markdown",
      "source": [
        "Name:m.bharath\n",
        "\n",
        "roll no:2303a52060\n",
        "\n",
        "Assignment-2"
      ],
      "metadata": {
        "id": "kxTQGay81Fz1"
      }
    },
    {
      "cell_type": "markdown",
      "source": [
        "1.Develop mathematical modeling for the given case study and find solution using Python\n",
        "\n",
        "Consider a chocolate manufacturing company that produces only two types of chocolate i.e. A and B. Both the chocolates require Milk and Choco only. To manufacture each unit of A and B, the following quantities ar required: Each unit of A requires 1 unit of Milk and 3 units of Choco Each unit of B requires 1 unit of Milk and 2 units of Choco The company kitchen has a total of 5 units of Milk and 12 units of Choco. On each sale, the company makes a profit of Rs 6 per anit A sold and Rs 5 per unit B sold. Now, the company wishes to maximize its profit. How many units of A and B should it produce respectively?  "
      ],
      "metadata": {
        "id": "pYvP0ycZ1NGr"
      }
    },
    {
      "cell_type": "code",
      "execution_count": 7,
      "metadata": {
        "colab": {
          "base_uri": "https://localhost:8080/"
        },
        "id": "ApyDQnC1yL-8",
        "outputId": "177cefc4-0c4f-43c7-c7df-791a22e8f8f8"
      },
      "outputs": [
        {
          "output_type": "stream",
          "name": "stdout",
          "text": [
            "Optimal production: 2.00 units of A and 3.00 units of B\n",
            "Maximum profit: Rs 27.00\n"
          ]
        }
      ],
      "source": [
        "from scipy.optimize import linprog\n",
        "\n",
        "\n",
        "c = [-6, -5]  # Negative because linprog minimizes\n",
        "\n",
        "# Coefficients of the inequality constraints\n",
        "A = [\n",
        "    [1, 1],    # Milk constraint\n",
        "        [3, 2]     # Choco constraint\n",
        "        ]\n",
        "\n",
        "# Right-hand side of the constraints\n",
        "b = [5, 12]\n",
        "\n",
        "# Bounds for x (units of A) and y (units of B)\n",
        "bounds = [(0, None), (0, None)]\n",
        "\n",
        "# Solve the linear programming problem\n",
        "result = linprog(c, A_ub=A, b_ub=b, bounds=bounds, method=\"highs\")\n",
        "\n",
        "# Extract the results\n",
        "if result.success:\n",
        "\n",
        "    x, y = result.x\n",
        "    max_profit = -result.fun  # Convert back to maximization\n",
        "    print(f\"Optimal production: {x:.2f} units of A and {y:.2f} units of B\")\n",
        "    print(f\"Maximum profit: Rs {max_profit:.2f}\")\n",
        "\n",
        "else:\n",
        "\n",
        "\n",
        "  print(\"No solution found.\")\n"
      ]
    },
    {
      "cell_type": "markdown",
      "source": [
        "2.Develop mathematical modeling for the given case study and find solution using Python\n",
        "\n",
        "A farmer has recently acquired a 110 hectares piece of land. He has decided to grow Wheat and barley on that land. Due to the quality of the sun and the region's excellent climate, the entire production of Wheat and Barley can be sold. He wants to know how to plant each variety in the 110 hectares, given the costs, net profits and labor requirements according to the data shown below:\n",
        "\n",
        "Crop        :      Wheat   Barley\n",
        "\n",
        "Cost (Rs/Hec)   :   7000    2000\n",
        "\n",
        "Profit (Price/Hec) : 50     120\n",
        "\n",
        "Man-days/Hec     :   10      30\n",
        "\n",
        "The farmer has a budget of Rs. 7,00,000 and availability of 1,200 man-days during the planning horizon. Find the optimal solution and the optimal value.\n"
      ],
      "metadata": {
        "id": "qNNqZ9Oez1M1"
      }
    },
    {
      "cell_type": "code",
      "source": [
        "from scipy.optimize import linprog\n",
        "\n",
        "\n",
        "c = [-50, -120]\n",
        "\n",
        "\n",
        "A = [\n",
        "    [1, 1],\n",
        "        [7000, 2000],\n",
        "            [10, 30]\n",
        "            ]\n",
        "\n",
        "\n",
        "b = [110, 700000, 1200]\n",
        "\n",
        "\n",
        "bounds = [(0, None), (0, None)]\n",
        "\n",
        "\n",
        "result = linprog(c, A_ub=A, b_ub=b, bounds=bounds, method=\"highs\")\n",
        "\n",
        "\n",
        "if result.success:\n",
        "   x, y = result.x\n",
        "   max_profit = -result.fun  # Convert back to maximization\n",
        "   print(f\"Optimal allocation: {x:.2f} hectares of Wheat and {y:.2f} hectares of Barley\")\n",
        "   print(f\"Maximum profit: Rs {max_profit:.2f}\")\n",
        "else:\n",
        "   print(\"No solution found.\")\n"
      ],
      "metadata": {
        "colab": {
          "base_uri": "https://localhost:8080/"
        },
        "id": "mV1bfAwC0-Sr",
        "outputId": "98d10436-34fe-464f-db93-8fc2686a09a5"
      },
      "execution_count": 10,
      "outputs": [
        {
          "output_type": "stream",
          "name": "stdout",
          "text": [
            "Optimal allocation: 97.89 hectares of Wheat and 7.37 hectares of Barley\n",
            "Maximum profit: Rs 5778.95\n"
          ]
        }
      ]
    }
  ]
}