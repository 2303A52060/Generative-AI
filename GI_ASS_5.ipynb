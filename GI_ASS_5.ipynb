{
  "nbformat": 4,
  "nbformat_minor": 0,
  "metadata": {
    "colab": {
      "provenance": [],
      "authorship_tag": "ABX9TyMRf6Ek/JZmBVF+YfATiLia",
      "include_colab_link": true
    },
    "kernelspec": {
      "name": "python3",
      "display_name": "Python 3"
    },
    "language_info": {
      "name": "python"
    }
  },
  "cells": [
    {
      "cell_type": "markdown",
      "metadata": {
        "id": "view-in-github",
        "colab_type": "text"
      },
      "source": [
        "<a href=\"https://colab.research.google.com/github/2303A52060/Generative-AI/blob/main/GI_ASS_5.ipynb\" target=\"_parent\"><img src=\"https://colab.research.google.com/assets/colab-badge.svg\" alt=\"Open In Colab\"/></a>"
      ]
    },
    {
      "cell_type": "markdown",
      "source": [
        " 1.Design a multi-layer ANN architecture with one input, one hidden, and one output layer. Assume a linear activation function in the output layer and a sigmoid activation function in the hidden layer.\n",
        "\n",
        " Write Python code for a backpropagation algorithm with gradient descent optimization to update weights and bias parameters of the ANN model with training data shown in Table 1.\n",
        "\n",
        " • Calculate the mean square error with training and testing data shown\n",
        " in Table 2.\n",
        "\n",
        " • Write Python code that reads the input data [x1 and x2] from the user. Predict the output\n",
        " with deployed ANN model\n",
        "\n",
        " Tabela 1: Training Data\n",
        "\n",
        " x1  x2    y\n",
        "\n",
        " 0.2 0.1 0.3441\n",
        "\n",
        " 0.3 0.2 0.3500\n",
        "\n",
        " 0.4 0.3 0.3558\n",
        "\n",
        " 0.7 0.6 0.3729\n",
        "\n",
        " 0.8 0.7 0.3785\n",
        "\n",
        " 0.9 0.8 0.3841\n",
        "\n",
        " Tabela 2: Test Data\n",
        "\n",
        " x1  x2   y\n",
        "\n",
        " 0.5 0.4 0.3615\n",
        "\n",
        " 0.6 0.5 0.367"
      ],
      "metadata": {
        "id": "fbbQ3z51WT-g"
      }
    },
    {
      "cell_type": "code",
      "execution_count": 4,
      "metadata": {
        "colab": {
          "base_uri": "https://localhost:8080/"
        },
        "id": "cFAyMbQdTzkX",
        "outputId": "99e7d586-8f79-4c3b-8d95-8682883ae521"
      },
      "outputs": [
        {
          "output_type": "stream",
          "name": "stdout",
          "text": [
            "Mean Squared Error (Training Data): 9.973820681276995e-07\n",
            "Mean Squared Error (Test Data): 5.02445673541467e-08\n",
            "Enter value for x1: 0.9\n",
            "Enter value for x2: 0.8\n",
            "Predicted Output: [[0.38524891]]\n"
          ]
        }
      ],
      "source": [
        "import numpy as np\n",
        "\n",
        "# Sigmoid activation function and its derivative\n",
        "def sigmoid(x):\n",
        "    return 1 / (1 + np.exp(-x))\n",
        "\n",
        "def sigmoid_derivative(x):\n",
        "    return x * (1 - x)\n",
        "\n",
        "# Mean Squared Error function\n",
        "def mean_squared_error(y_true, y_pred):\n",
        "    return np.mean((y_true - y_pred) ** 2)\n",
        "\n",
        "# ANN class\n",
        "class ANN:\n",
        "    def __init__(self, input_size, hidden_size, output_size, learning_rate=0.01):\n",
        "        self.input_size = input_size\n",
        "        self.hidden_size = hidden_size\n",
        "        self.output_size = output_size\n",
        "        self.learning_rate = learning_rate\n",
        "\n",
        "        # Initialize weights and biases\n",
        "        self.weights_input_hidden = np.random.rand(self.input_size, self.hidden_size)\n",
        "        self.bias_hidden = np.random.rand(self.hidden_size)\n",
        "        self.weights_hidden_output = np.random.rand(self.hidden_size, self.output_size)\n",
        "        self.bias_output = np.random.rand(self.output_size)\n",
        "\n",
        "    def forward(self, X):\n",
        "        self.hidden_input = np.dot(X, self.weights_input_hidden) + self.bias_hidden\n",
        "        self.hidden_output = sigmoid(self.hidden_input)\n",
        "        self.output_input = np.dot(self.hidden_output, self.weights_hidden_output) + self.bias_output\n",
        "        self.output = self.output_input  # Linear activation for the output layer\n",
        "        return self.output\n",
        "\n",
        "    def backward(self, X, y):\n",
        "        # Calculate output error\n",
        "        error_output = y - self.output\n",
        "        delta_output = error_output\n",
        "\n",
        "        # Calculate hidden layer error\n",
        "        error_hidden = delta_output.dot(self.weights_hidden_output.T)\n",
        "        delta_hidden = error_hidden * sigmoid_derivative(self.hidden_output)\n",
        "\n",
        "        # Update weights and biases\n",
        "        self.weights_hidden_output += self.hidden_output.T.dot(delta_output) * self.learning_rate\n",
        "        self.bias_output += np.sum(delta_output, axis=0) * self.learning_rate\n",
        "        self.weights_input_hidden += X.T.dot(delta_hidden) * self.learning_rate\n",
        "        self.bias_hidden += np.sum(delta_hidden, axis=0) * self.learning_rate\n",
        "\n",
        "    def train(self, X, y, epochs):\n",
        "        for epoch in range(epochs):\n",
        "            self.forward(X)\n",
        "            self.backward(X, y)\n",
        "\n",
        "    def predict(self, X):\n",
        "        return self.forward(X)\n",
        "\n",
        "# Training Data\n",
        "X_train = np.array([[0.2, 0.1], [0.3, 0.2], [0.4, 0.3], [0.7, 0.6], [0.8, 0.7], [0.9, 0.8]])\n",
        "y_train = np.array([[0.3441], [0.3500], [0.3558], [0.3729], [0.3785], [0.3841]])\n",
        "\n",
        "# Test Data\n",
        "X_test = np.array([[0.5, 0.4], [0.6, 0.5]])\n",
        "y_test = np.array([[0.3615], [0.3672]])\n",
        "\n",
        "# Initialize and train the ANN model\n",
        "ann = ANN(input_size=2, hidden_size=4, output_size=1, learning_rate=0.01)\n",
        "ann.train(X_train, y_train, epochs=10000)\n",
        "\n",
        "# Predictions and Mean Squared Error calculation\n",
        "y_train_pred = ann.predict(X_train)\n",
        "y_test_pred = ann.predict(X_test)\n",
        "mse_train = mean_squared_error(y_train, y_train_pred)\n",
        "mse_test = mean_squared_error(y_test, y_test_pred)\n",
        "\n",
        "print(f\"Mean Squared Error (Training Data): {mse_train}\")\n",
        "print(f\"Mean Squared Error (Test Data): {mse_test}\")\n",
        "\n",
        "# Predict output with user input\n",
        "def predict_user_input(x1, x2):\n",
        "    user_input = np.array([[x1, x2]])\n",
        "    prediction = ann.predict(user_input)\n",
        "    return prediction\n",
        "\n",
        "# User input\n",
        "x1 = float(input(\"Enter value for x1: \"))\n",
        "x2 = float(input(\"Enter value for x2: \"))\n",
        "output = predict_user_input(x1, x2)\n",
        "print(f\"Predicted Output: {output}\")"
      ]
    }
  ]
}